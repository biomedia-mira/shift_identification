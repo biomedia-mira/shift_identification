{
 "cells": [
  {
   "cell_type": "markdown",
   "metadata": {},
   "source": [
    "# Create RETINA dataset files"
   ]
  },
  {
   "cell_type": "code",
   "execution_count": 88,
   "metadata": {},
   "outputs": [],
   "source": [
    "from sklearn.model_selection import train_test_split\n",
    "import numpy as np\n",
    "from pathlib import Path\n",
    "import pandas as pd"
   ]
  },
  {
   "cell_type": "code",
   "execution_count": null,
   "metadata": {},
   "outputs": [],
   "source": [
    "MESSIDOR_ROOT = Path(\"/data/messidor/\")\n",
    "APTOS_ROOT = Path(\"/data/aptos2019/\")\n",
    "PROJECT_ROOT = Path(\"path-to-project-root\")"
   ]
  },
  {
   "cell_type": "markdown",
   "metadata": {},
   "source": [
    "## Load MESSIDOR dataset"
   ]
  },
  {
   "cell_type": "code",
   "execution_count": null,
   "metadata": {},
   "outputs": [],
   "source": [
    "df_m = pd.read_csv(MESSIDOR_ROOT / \"messidor_data.csv\")\n",
    "df_m[\"diagnosis\"] = df_m[\"adjudicated_dr_grade\"]\n",
    "df_m[\"site\"] = 1\n",
    "df_m[\"img_path\"] = df_m[\"image_id\"].apply(\n",
    "    lambda image_name: MESSIDOR_ROOT / \"IMAGES\" / image_name\n",
    ")\n",
    "train_id, val_test_id = train_test_split(np.arange(len(df_m)), train_size=0.40)\n",
    "val_id, test_id = train_test_split(val_test_id, train_size=0.20)\n",
    "df_m.loc[train_id, \"split\"] = \"train\"\n",
    "df_m.loc[val_id, \"split\"] = \"val\"\n",
    "df_m.loc[test_id, \"split\"] = \"test\"\n",
    "df_m"
   ]
  },
  {
   "cell_type": "markdown",
   "metadata": {},
   "source": [
    "## Load APTOS dataset"
   ]
  },
  {
   "cell_type": "code",
   "execution_count": null,
   "metadata": {},
   "outputs": [],
   "source": [
    "df_a = pd.read_csv(APTOS_ROOT / \"train.csv\")\n",
    "df_a[\"site\"] = 2\n",
    "df_a[\"img_path\"] = df_a[\"id_code\"].apply(\n",
    "    lambda image_name: APTOS_ROOT / \"train_images\" / f\"{image_name}.png\"\n",
    ")\n",
    "df_a\n",
    "train_id, val_test_id = train_test_split(np.arange(len(df_a)), train_size=0.40)\n",
    "val_id, test_id = train_test_split(val_test_id, train_size=0.20)\n",
    "df_a.loc[train_id, \"split\"] = \"train\"\n",
    "df_a.loc[val_id, \"split\"] = \"val\"\n",
    "df_a.loc[test_id, \"split\"] = \"test\"\n",
    "df_a"
   ]
  },
  {
   "cell_type": "markdown",
   "metadata": {},
   "source": [
    "## Load EyePACS dataset"
   ]
  },
  {
   "cell_type": "code",
   "execution_count": null,
   "metadata": {},
   "outputs": [],
   "source": [
    "DATA_DIR_DIABETIC = Path(\"/data/diabetic_retino\")\n",
    "train_df = pd.read_csv(DATA_DIR_DIABETIC / \"trainLabels.csv\")\n",
    "train_df[\"img_path\"] = train_df[\"image\"].apply(\n",
    "    lambda x: DATA_DIR_DIABETIC / \"train\" / f\"{x}.jpeg\"\n",
    ")\n",
    "val_test_df = pd.read_csv(DATA_DIR_DIABETIC / \"retinopathy_solution.csv\")\n",
    "val_test_df[\"img_path\"] = val_test_df[\"image\"].apply(\n",
    "    lambda x: DATA_DIR_DIABETIC / \"test\" / f\"{x}.jpeg\"\n",
    ")\n",
    "all_eyepacs = pd.concat([train_df], ignore_index=True)\n",
    "all_eyepacs[\"site\"] = 3\n",
    "all_eyepacs[\"diagnosis\"] = all_eyepacs[\"level\"]\n",
    "train_id, val_test_id = train_test_split(np.arange(len(all_eyepacs)), train_size=0.40)\n",
    "val_id, test_id = train_test_split(val_test_id, train_size=0.20)\n",
    "all_eyepacs.loc[train_id, \"split\"] = \"train\"\n",
    "all_eyepacs.loc[val_id, \"split\"] = \"val\"\n",
    "all_eyepacs.loc[test_id, \"split\"] = \"test\"\n",
    "all_eyepacs"
   ]
  },
  {
   "cell_type": "markdown",
   "metadata": {},
   "source": [
    "## Create combined RETINA dataset"
   ]
  },
  {
   "cell_type": "code",
   "execution_count": null,
   "metadata": {},
   "outputs": [],
   "source": [
    "combined_df = pd.concat([df_a, df_m, all_eyepacs], ignore_index=True)[\n",
    "    [\"diagnosis\", \"img_path\", \"site\", \"split\"]\n",
    "]\n",
    "combined_df[\"binary_diagnosis\"] = combined_df[\"diagnosis\"].apply(lambda x: x < 2)\n",
    "combined_df.dropna(subset=\"diagnosis\", inplace=True)\n",
    "combined_df"
   ]
  },
  {
   "cell_type": "markdown",
   "metadata": {},
   "source": [
    "## Create train, test, val splits csv"
   ]
  },
  {
   "cell_type": "code",
   "execution_count": null,
   "metadata": {},
   "outputs": [],
   "source": [
    "test_df = combined_df.loc[combined_df.split == \"test\"]\n",
    "val_df = combined_df.loc[combined_df.split == \"val\"]\n",
    "train_df = combined_df.loc[combined_df.split == \"train\"]\n",
    "\n",
    "train_df.to_csv(\n",
    "    PROJECT_ROOT / \"data/retina_train.csv\",\n",
    "    index=False,\n",
    ")\n",
    "val_df.to_csv(\n",
    "    PROJECT_ROOT / \"data/retina_val.csv\", index=False\n",
    ")\n",
    "test_df.to_csv(\n",
    "    PROJECT_ROOT / \"data/retina_test.csv\", index=False\n",
    ")"
   ]
  },
  {
   "cell_type": "markdown",
   "metadata": {},
   "source": [
    "## Print stats"
   ]
  },
  {
   "cell_type": "code",
   "execution_count": null,
   "metadata": {},
   "outputs": [],
   "source": [
    "(\n",
    "    train_df.binary_diagnosis.value_counts(normalize=True),\n",
    "    train_df.binary_diagnosis.value_counts(normalize=False),\n",
    ")"
   ]
  },
  {
   "cell_type": "code",
   "execution_count": null,
   "metadata": {},
   "outputs": [],
   "source": [
    "(\n",
    "    test_df.binary_diagnosis.value_counts(normalize=True),\n",
    "    test_df.binary_diagnosis.value_counts(normalize=False),\n",
    ")"
   ]
  },
  {
   "cell_type": "code",
   "execution_count": null,
   "metadata": {},
   "outputs": [],
   "source": [
    "(\n",
    "    train_df.site.value_counts(normalize=True),\n",
    "    val_df.site.value_counts(normalize=True),\n",
    "    test_df.site.value_counts(normalize=True),\n",
    "    test_df.site.value_counts(normalize=False),\n",
    ")"
   ]
  }
 ],
 "metadata": {
  "kernelspec": {
   "display_name": "Python 3",
   "language": "python",
   "name": "python3"
  },
  "language_info": {
   "codemirror_mode": {
    "name": "ipython",
    "version": 3
   },
   "file_extension": ".py",
   "mimetype": "text/x-python",
   "name": "python",
   "nbconvert_exporter": "python",
   "pygments_lexer": "ipython3",
   "version": "3.11.5"
  }
 },
 "nbformat": 4,
 "nbformat_minor": 2
}
