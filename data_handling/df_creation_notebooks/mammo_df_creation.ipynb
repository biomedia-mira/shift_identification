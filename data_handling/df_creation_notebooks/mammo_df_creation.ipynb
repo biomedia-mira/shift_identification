{
 "cells": [
  {
   "cell_type": "markdown",
   "metadata": {},
   "source": [
    "# Create EMBED splits"
   ]
  },
  {
   "cell_type": "code",
   "execution_count": null,
   "metadata": {},
   "outputs": [],
   "source": [
    "import pandas as pd\n",
    "from pathlib import Path\n",
    "import sys\n",
    "\n",
    "sys.path.append(\"PATH TO ROOT\")\n",
    "from data_handling.mammo import domain_maps, modelname_map, tissue_maps, EMBED_ROOT, PROJECT_ROOT"
   ]
  },
  {
   "cell_type": "markdown",
   "metadata": {},
   "source": [
    "## Load original csv file"
   ]
  },
  {
   "cell_type": "code",
   "execution_count": null,
   "metadata": {},
   "outputs": [],
   "source": [
    "def get_embed_csv():\n",
    "    image_dir = EMBED_ROOT / Path(\"images/png/1024x768\")\n",
    "    try:\n",
    "        mydf = pd.read_csv(Path(__file__).parent / \"joined_simple.csv\")\n",
    "    except FileNotFoundError:\n",
    "        print(\n",
    "            \"\"\"\n",
    "            For running EMBED code you need to first generate the csv\n",
    "            file used for this study in csv_generation_code/generate_embed_csv.ipynb\n",
    "            \"\"\"\n",
    "        )\n",
    "\n",
    "    mydf[\"shortimgpath\"] = mydf[\"image_path\"]\n",
    "    mydf[\"image_path\"] = mydf[\"image_path\"].apply(lambda x: image_dir / str(x))\n",
    "\n",
    "    mydf[\"manufacturer_domain\"] = mydf.Manufacturer.apply(lambda x: domain_maps[x])\n",
    "\n",
    "    # convert tissueden to trainable label\n",
    "    mydf[\"tissueden\"] = mydf.tissueden.apply(lambda x: tissue_maps[x])\n",
    "\n",
    "    mydf[\"SimpleModelLabel\"] = mydf.ManufacturerModelName.apply(\n",
    "        lambda x: modelname_map[x]\n",
    "    )\n",
    "    print(mydf.SimpleModelLabel.value_counts())\n",
    "    mydf[\"ViewLabel\"] = mydf.ViewPosition.apply(lambda x: 0 if x == \"MLO\" else 1)\n",
    "\n",
    "    mydf = mydf.dropna(\n",
    "        subset=[\n",
    "            \"age_at_study\",\n",
    "            \"tissueden\",\n",
    "            \"SimpleModelLabel\",\n",
    "            \"ViewLabel\",\n",
    "            \"image_path\",\n",
    "        ]\n",
    "    )\n",
    "    return mydf"
   ]
  },
  {
   "cell_type": "code",
   "execution_count": null,
   "metadata": {},
   "outputs": [],
   "source": [
    "df = get_embed_csv()"
   ]
  },
  {
   "cell_type": "code",
   "execution_count": null,
   "metadata": {},
   "outputs": [],
   "source": [
    "df[\"tissueden\"].value_counts(normalize=True)"
   ]
  },
  {
   "cell_type": "markdown",
   "metadata": {},
   "source": [
    "## Create the splits"
   ]
  },
  {
   "cell_type": "code",
   "execution_count": null,
   "metadata": {},
   "outputs": [],
   "source": [
    "from sklearn.model_selection import train_test_split\n",
    "import numpy as np\n",
    "\n",
    "df = df.loc[df.FinalImageType == \"2D\"]\n",
    "\n",
    "y = df.groupby(\"empi_anon\")[\"tissueden\"].unique().apply(lambda x: x[0]).values\n",
    "print(np.bincount(y) / np.bincount(y).sum())\n",
    "train_id, val_id = train_test_split(\n",
    "    df.empi_anon.unique(), test_size=0.4, random_state=33, stratify=y\n",
    ")\n",
    "\n",
    "\n",
    "val_test_df = df.loc[df[\"empi_anon\"].isin(val_id)]\n",
    "# Keep only one study by patient\n",
    "studies = (\n",
    "    val_test_df.groupby(\"empi_anon\")[\"acc_anon\"].unique().apply(lambda x: x[0]).values\n",
    ")\n",
    "# For testing filter out all studies for which there is more than the expected 4 images (L/R, MLO/CC).\n",
    "# These are the studies with failed images, images with unexpected stuff. To make sure that the\n",
    "# distribution of val and un-shifted test are the same. Otherwise it might falsily the results.\n",
    "weird = (\n",
    "    df.groupby(\"acc_anon\")[\"acc_anon\"]\n",
    "    .unique()\n",
    "    .index[\n",
    "        np.where(\n",
    "            df.groupby(\"acc_anon\")[\"shortimgpath\"]\n",
    "            .unique()\n",
    "            .apply(lambda x: len(x) != 4)\n",
    "            .values\n",
    "        )[0]\n",
    "    ]\n",
    ")\n",
    "val_test_df = val_test_df.loc[val_test_df[\"acc_anon\"].isin(studies)]\n",
    "val_test_df = val_test_df.loc[~val_test_df[\"acc_anon\"].isin(weird)]\n",
    "\n",
    "pd.crosstab(val_test_df[\"SimpleModelLabel\"], val_test_df[\"tissueden\"])"
   ]
  },
  {
   "cell_type": "code",
   "execution_count": null,
   "metadata": {},
   "outputs": [],
   "source": [
    "tmp = val_test_df.groupby(\"acc_anon\")[\"combined_var\"].unique()\n",
    "ids, y = tmp.index, tmp.apply(lambda x: x[0]).values\n",
    "test_id, val_id = train_test_split(ids, test_size=1200, random_state=33, stratify=y)\n",
    "print(\n",
    "    f\"N patients train: {train_id.shape[0]}, val: {val_id.shape[0]}, test {test_id.shape[0]}\"\n",
    ")  # noqa"
   ]
  },
  {
   "cell_type": "code",
   "execution_count": null,
   "metadata": {},
   "outputs": [],
   "source": [
    "train_df = df.loc[df.empi_anon.isin(train_id)]\n",
    "val_df = val_test_df.loc[val_test_df.acc_anon.isin(val_id)]\n",
    "test_df = val_test_df.loc[val_test_df.acc_anon.isin(test_id)]\n",
    "test_df[\"idx_in_original_test\"] = np.arange(len(test_df))"
   ]
  },
  {
   "cell_type": "code",
   "execution_count": null,
   "metadata": {},
   "outputs": [],
   "source": [
    "pd.crosstab(test_df[\"SimpleModelLabel\"], test_df[\"tissueden\"], normalize=\"index\")"
   ]
  },
  {
   "cell_type": "code",
   "execution_count": null,
   "metadata": {},
   "outputs": [],
   "source": [
    "pd.crosstab(val_df[\"SimpleModelLabel\"], val_df[\"tissueden\"], normalize=\"index\")"
   ]
  },
  {
   "cell_type": "code",
   "execution_count": null,
   "metadata": {},
   "outputs": [],
   "source": [
    "train_df.to_csv(PROJECT_ROOT / \"data/train_embed.csv\")"
   ]
  },
  {
   "cell_type": "code",
   "execution_count": null,
   "metadata": {},
   "outputs": [],
   "source": [
    "val_df.to_csv(PROJECT_ROOT / \"data/val_embed.csv\")"
   ]
  },
  {
   "cell_type": "code",
   "execution_count": null,
   "metadata": {},
   "outputs": [],
   "source": [
    "test_df.to_csv(PROJECT_ROOT / \"data/test_embed.csv\")"
   ]
  }
 ],
 "metadata": {
  "kernelspec": {
   "display_name": "causalnew",
   "language": "python",
   "name": "python3"
  },
  "language_info": {
   "codemirror_mode": {
    "name": "ipython",
    "version": 3
   },
   "file_extension": ".py",
   "mimetype": "text/x-python",
   "name": "python",
   "nbconvert_exporter": "python",
   "pygments_lexer": "ipython3",
   "version": "3.11.5"
  }
 },
 "nbformat": 4,
 "nbformat_minor": 2
}
