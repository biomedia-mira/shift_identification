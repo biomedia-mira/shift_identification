{
 "cells": [
  {
   "cell_type": "markdown",
   "metadata": {},
   "source": [
    "# Prepare RSNA Pneumonia splits csv"
   ]
  },
  {
   "cell_type": "code",
   "execution_count": null,
   "metadata": {},
   "outputs": [],
   "source": [
    "import pandas as pd\n",
    "from sklearn.model_selection import train_test_split\n",
    "import numpy as np\n",
    "from pathlib import Path\n",
    "import sys\n",
    "\n",
    "sys.path.append(\"/vol/biomedic3/mb121/shift_identification\")\n",
    "\n",
    "from default_paths import (\n",
    "    ROOT,\n",
    "    PATH_NIH_TO_RSNA_MAPPING,\n",
    "    NIH_METADATA_CSV,\n",
    "    DATA_DIR_RSNA,\n",
    ")\n",
    "from rsna_utils import create_mapping_dataset_nih"
   ]
  },
  {
   "cell_type": "markdown",
   "metadata": {},
   "source": [
    "## Part I: generate the main csv (merging RSNA labels with metadata from NIH dataset)"
   ]
  },
  {
   "cell_type": "code",
   "execution_count": null,
   "metadata": {},
   "outputs": [],
   "source": [
    "mapping_file = PATH_NIH_TO_RSNA_MAPPING\n",
    "nih_metadata = NIH_METADATA_CSV\n",
    "kaggle_dataset_path = DATA_DIR_RSNA / \"stage_2_train_labels.csv\"\n",
    "dataset = create_mapping_dataset_nih(\n",
    "    mapping_file,\n",
    "    nih_metadata,\n",
    "    kaggle_dataset_path,\n",
    ")\n",
    "dataset.to_csv(\n",
    "    ROOT / \"data_handling\" / \"pneumonia_dataset_with_metadata.csv\", index=False\n",
    ")"
   ]
  },
  {
   "cell_type": "markdown",
   "metadata": {},
   "source": [
    "## Part II: generate splits"
   ]
  },
  {
   "cell_type": "code",
   "execution_count": null,
   "metadata": {},
   "outputs": [],
   "source": [
    "random_seed_for_splits = 33\n",
    "df = pd.read_csv(ROOT / \"data_handling\" / \"pneumonia_dataset_with_metadata.csv\")\n",
    "indices_train_val, indices_test = train_test_split(\n",
    "    np.arange(len(df)),\n",
    "    test_size=0.3,\n",
    "    random_state=random_seed_for_splits,\n",
    ")\n",
    "train_val_df = df.iloc[indices_train_val]\n",
    "test_df = df.iloc[indices_test]\n",
    "\n",
    "# Further split train and val\n",
    "indices_train, indices_val = train_test_split(\n",
    "    np.arange(len(train_val_df)),\n",
    "    test_size=0.2,\n",
    "    random_state=random_seed_for_splits,\n",
    ")\n",
    "\n",
    "train_df = train_val_df.iloc[indices_train]\n",
    "val_df = train_val_df.iloc[indices_val]"
   ]
  },
  {
   "cell_type": "code",
   "execution_count": null,
   "metadata": {},
   "outputs": [],
   "source": [
    "train_df.to_csv(ROOT / \"experiments\" / \"train_rsna.csv\")\n",
    "val_df.to_csv(ROOT / \"experiments\" / \"val_rsna.csv\")\n",
    "test_df[\"idx_in_original_test\"] = np.arange(len(test_df))\n",
    "test_df.to_csv(ROOT / \"experiments\" / \"test_rsna.csv\")"
   ]
  }
 ],
 "metadata": {
  "kernelspec": {
   "display_name": "causalnew",
   "language": "python",
   "name": "python3"
  },
  "language_info": {
   "codemirror_mode": {
    "name": "ipython",
    "version": 3
   },
   "file_extension": ".py",
   "mimetype": "text/x-python",
   "name": "python",
   "nbconvert_exporter": "python",
   "pygments_lexer": "ipython3",
   "version": "3.11.5"
  }
 },
 "nbformat": 4,
 "nbformat_minor": 2
}
