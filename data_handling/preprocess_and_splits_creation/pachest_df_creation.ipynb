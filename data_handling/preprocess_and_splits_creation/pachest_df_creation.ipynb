{
 "cells": [
  {
   "cell_type": "markdown",
   "metadata": {},
   "source": [
    "# Prepare PadChest split csv"
   ]
  },
  {
   "cell_type": "code",
   "execution_count": null,
   "metadata": {},
   "outputs": [],
   "source": [
    "import pandas as pd\n",
    "from datetime import datetime\n",
    "\n",
    "path_to_root = \"/vol/biomedic3/mb121/shift_identification\"\n",
    "import sys\n",
    "\n",
    "sys.path.append(path_to_root)\n",
    "from default_paths import PADCHEST_ROOT, ROOT"
   ]
  },
  {
   "cell_type": "markdown",
   "metadata": {},
   "source": [
    "## Load original csv file"
   ]
  },
  {
   "cell_type": "code",
   "execution_count": null,
   "metadata": {},
   "outputs": [],
   "source": [
    "df = pd.read_csv(PADCHEST_ROOT / \"PADCHEST_chest_x_ray_images_labels_160K_01.02.19.csv\")\n",
    "df = df.loc[df.Pediatric == \"No\"]\n",
    "df = df.loc[df.Projection.isin([\"PA\"])]\n",
    "\n",
    "\n",
    "def process(x, target):\n",
    "    if isinstance(x, str):\n",
    "        list_labels = x[1:-1].split(\",\")\n",
    "        list_labels = [label.replace(\"'\", \"\").strip() for label in list_labels]\n",
    "        return target in list_labels\n",
    "    else:\n",
    "        return False\n",
    "\n",
    "\n",
    "for label in [\n",
    "    \"pneumonia\",\n",
    "    \"exclude\",\n",
    "    \"suboptimal study\",\n",
    "]:\n",
    "    df[label] = df.Labels.astype(str).apply(lambda x: process(x, label))\n",
    "    print(df[label].value_counts())\n",
    "df = df.loc[~df.exclude]\n",
    "df = df.loc[~df[\"suboptimal study\"]]\n",
    "df[\"Manufacturer\"] = df.Manufacturer_DICOM.apply(\n",
    "    lambda x: \"Phillips\" if x == \"PhilipsMedicalSystems\" else \"Imaging\"\n",
    ")\n",
    "df = df.loc[df[\"PatientSex_DICOM\"].isin([\"M\", \"F\"])]\n",
    "df[\"PatientAge\"] = (\n",
    "    df.StudyDate_DICOM.apply(lambda x: datetime.strptime(str(x), \"%Y%M%d\").year)\n",
    "    - df.PatientBirth\n",
    ")\n",
    "invalid_filenames = [\n",
    "    \"216840111366964013829543166512013353113303615_02-092-190.png\",\n",
    "    \"216840111366964013962490064942014134093945580_01-178-104.png\",\n",
    "    \"216840111366964012989926673512011151082430686_00-157-045.png\",\n",
    "    \"216840111366964012558082906712009327122220177_00-102-064.png\",\n",
    "    \"216840111366964012959786098432011033083840143_00-176-115.png\",\n",
    "    \"216840111366964012373310883942009152114636712_00-102-045.png\",\n",
    "    \"216840111366964012487858717522009280135853083_00-075-001.png\",\n",
    "    \"216840111366964012819207061112010307142602253_04-014-084.png\",\n",
    "    \"216840111366964012989926673512011074122523403_00-163-058.png\",\n",
    "    \"216840111366964013590140476722013058110301622_02-056-111.png\",\n",
    "    \"216840111366964012339356563862009072111404053_00-043-192.png\",\n",
    "    \"216840111366964013590140476722013043111952381_02-065-198.png\",\n",
    "    \"216840111366964012819207061112010281134410801_00-129-131.png\",\n",
    "    \"216840111366964013686042548532013208193054515_02-026-007.png\",\n",
    "    \"216840111366964012989926673512011083134050913_00-168-009.png\",\n",
    "    \"216840111366964012373310883942009170084120009_00-097-074.png\",\n",
    "]\n",
    "df = df.loc[~df.ImageID.isin(invalid_filenames)]"
   ]
  },
  {
   "cell_type": "code",
   "execution_count": null,
   "metadata": {},
   "outputs": [],
   "source": [
    "df.pneumonia.value_counts(normalize=True)"
   ]
  },
  {
   "cell_type": "code",
   "execution_count": null,
   "metadata": {},
   "outputs": [],
   "source": [
    "(\n",
    "    df[\"PatientSex_DICOM\"].value_counts(normalize=True),\n",
    "    df[\"PatientSex_DICOM\"].value_counts(),\n",
    ")"
   ]
  },
  {
   "cell_type": "code",
   "execution_count": null,
   "metadata": {},
   "outputs": [],
   "source": [
    "df[\"Manufacturer\"].value_counts(normalize=True), df[\"Manufacturer\"].value_counts()"
   ]
  },
  {
   "cell_type": "markdown",
   "metadata": {},
   "source": [
    "## Prepare and save splits"
   ]
  },
  {
   "cell_type": "code",
   "execution_count": 4,
   "metadata": {},
   "outputs": [],
   "source": [
    "from sklearn.model_selection import train_test_split\n",
    "import numpy as np\n",
    "\n",
    "random_seed_for_splits = 33\n",
    "\n",
    "indices_train_val, indices_test = train_test_split(\n",
    "    df.PatientID.unique(),\n",
    "    test_size=0.2,\n",
    "    random_state=random_seed_for_splits,\n",
    "    stratify=df.groupby(\"PatientID\").pneumonia.max(),\n",
    ")\n",
    "\n",
    "train_val_df = df.loc[df.PatientID.isin(indices_train_val)]\n",
    "test_df = df.loc[df.PatientID.isin(indices_test)]\n",
    "\n",
    "# Further split train and val\n",
    "indices_train, indices_val = train_test_split(\n",
    "    train_val_df.PatientID.unique(),\n",
    "    test_size=0.2,\n",
    "    random_state=random_seed_for_splits,\n",
    "    stratify=train_val_df.groupby(\"PatientID\").pneumonia.max(),\n",
    ")\n",
    "\n",
    "train_df = train_val_df.loc[train_val_df.PatientID.isin(indices_train)]\n",
    "val_df = train_val_df.loc[train_val_df.PatientID.isin(indices_val)]"
   ]
  },
  {
   "cell_type": "code",
   "execution_count": null,
   "metadata": {},
   "outputs": [],
   "source": [
    "(\n",
    "    train_df.pneumonia.value_counts(normalize=True),\n",
    "    train_df.pneumonia.value_counts(normalize=False),\n",
    ")"
   ]
  },
  {
   "cell_type": "code",
   "execution_count": null,
   "metadata": {},
   "outputs": [],
   "source": [
    "(\n",
    "    val_df.pneumonia.value_counts(normalize=True),\n",
    "    val_df.pneumonia.value_counts(normalize=False),\n",
    ")"
   ]
  },
  {
   "cell_type": "code",
   "execution_count": null,
   "metadata": {},
   "outputs": [],
   "source": [
    "(\n",
    "    test_df.pneumonia.value_counts(normalize=True),\n",
    "    test_df.pneumonia.value_counts(normalize=False),\n",
    ")"
   ]
  },
  {
   "cell_type": "code",
   "execution_count": null,
   "metadata": {},
   "outputs": [],
   "source": [
    "(\n",
    "    train_df[\"PatientSex_DICOM\"].value_counts(normalize=True),\n",
    "    val_df[\"PatientSex_DICOM\"].value_counts(normalize=True),\n",
    "    test_df[\"PatientSex_DICOM\"].value_counts(normalize=True),\n",
    ")"
   ]
  },
  {
   "cell_type": "code",
   "execution_count": null,
   "metadata": {},
   "outputs": [],
   "source": [
    "train_df.to_csv(ROOT / \"experiments\" / \"train_padchest.csv\")"
   ]
  },
  {
   "cell_type": "code",
   "execution_count": null,
   "metadata": {},
   "outputs": [],
   "source": [
    "val_df.to_csv(ROOT / \"experiments\" / \"val_padchest.csv\")"
   ]
  },
  {
   "cell_type": "code",
   "execution_count": null,
   "metadata": {},
   "outputs": [],
   "source": [
    "test_df[\"idx_in_original_test\"] = np.arange(len(test_df))\n",
    "test_df.to_csv(ROOT / \"experiments\" / \"test_padchest.csv\")"
   ]
  },
  {
   "cell_type": "markdown",
   "metadata": {},
   "source": [
    "## Create example of shifted dataset for the motivating example (Appendix A)"
   ]
  },
  {
   "cell_type": "code",
   "execution_count": 18,
   "metadata": {},
   "outputs": [],
   "source": [
    "imaging_test = test_df.loc[test_df[\"Manufacturer\"] == \"Imaging\"]\n",
    "phillips_test = test_df.loc[test_df[\"Manufacturer\"] == \"Phillips\"]"
   ]
  },
  {
   "cell_type": "code",
   "execution_count": null,
   "metadata": {},
   "outputs": [],
   "source": [
    "# Sample with 80% of phillips\n",
    "n_phillips = len(phillips_test)\n",
    "n_imaging = int(0.2 * n_phillips / 0.8)\n",
    "n_phillips, n_imaging"
   ]
  },
  {
   "cell_type": "code",
   "execution_count": null,
   "metadata": {},
   "outputs": [],
   "source": [
    "(\n",
    "    phillips_test.pneumonia.value_counts(normalize=True),\n",
    "    imaging_test.pneumonia.value_counts(normalize=True),\n",
    ")"
   ]
  },
  {
   "cell_type": "code",
   "execution_count": null,
   "metadata": {},
   "outputs": [],
   "source": [
    "phillips_test_positive = phillips_test.loc[phillips_test.pneumonia]\n",
    "phillips_test_negative = phillips_test.loc[~phillips_test.pneumonia]\n",
    "test_prev = 0.0384\n",
    "n_phillips_positive = int(test_prev * len(phillips_test_negative) / (1 - test_prev))\n",
    "sub_sampled_phillips = phillips_test_positive.sample(\n",
    "    axis=0, replace=False, n=n_phillips_positive, random_state=33\n",
    ")\n",
    "phillips_prev_adjusted = pd.concat([phillips_test_negative, sub_sampled_phillips])\n",
    "phillips_prev_adjusted.pneumonia.value_counts(normalize=True)"
   ]
  },
  {
   "cell_type": "code",
   "execution_count": null,
   "metadata": {},
   "outputs": [],
   "source": [
    "# Switch to 90% Phillips\n",
    "\n",
    "n_imaging = 0.1 * (len(phillips_prev_adjusted) / 0.9)\n",
    "n_imaging_positive = int(test_prev * n_imaging)\n",
    "n_imaging_negative = int((1 - test_prev) * n_imaging)\n",
    "\n",
    "imaging_negative = imaging_test.loc[~imaging_test.pneumonia]\n",
    "imaging_positive = imaging_test.loc[imaging_test.pneumonia]\n",
    "\n",
    "sub_sampled_imaging_pos = imaging_positive.sample(\n",
    "    axis=0, replace=False, n=n_imaging_positive, random_state=33\n",
    ")\n",
    "sub_sampled_imaging_neg = imaging_negative.sample(\n",
    "    axis=0, replace=False, n=n_imaging_negative, random_state=33\n",
    ")\n",
    "\n",
    "subsampling_imaging = pd.concat([sub_sampled_imaging_pos, sub_sampled_imaging_neg])\n",
    "subsampling_imaging.pneumonia.value_counts(normalize=True)"
   ]
  },
  {
   "cell_type": "code",
   "execution_count": null,
   "metadata": {},
   "outputs": [],
   "source": [
    "manufacturer_shift_test = pd.concat([phillips_prev_adjusted, subsampling_imaging])\n",
    "(\n",
    "    manufacturer_shift_test.pneumonia.value_counts(normalize=True),\n",
    "    manufacturer_shift_test[\"Manufacturer\"].value_counts(normalize=True),\n",
    ")"
   ]
  },
  {
   "cell_type": "code",
   "execution_count": null,
   "metadata": {},
   "outputs": [],
   "source": [
    "manufacturer_shift_test.to_csv(ROOT / \"experiments\" / \"padchest_manufacturer_shift.csv\")"
   ]
  },
  {
   "cell_type": "code",
   "execution_count": null,
   "metadata": {},
   "outputs": [],
   "source": [
    "test_prev = 0.20\n",
    "orig_prev_phillips = 0.42\n",
    "\n",
    "len(phillips_test_positive), len(imaging_positive)\n",
    "n_positive_imaging = len(imaging_positive)\n",
    "n_positive_phillips = int(\n",
    "    orig_prev_phillips * n_positive_imaging / (1 - orig_prev_phillips)\n",
    ")\n",
    "n_negative_phillips = int((1 - test_prev) * n_positive_phillips / test_prev)\n",
    "n_negative_imaging = int((1 - test_prev) * n_positive_imaging / test_prev)\n",
    "\n",
    "sub_sampled_phillips_pos = phillips_test_positive.sample(\n",
    "    axis=0, replace=False, n=n_positive_phillips, random_state=33\n",
    ")\n",
    "sub_sampled_phillips_neg = phillips_test_negative.sample(\n",
    "    axis=0, replace=False, n=n_negative_phillips, random_state=33\n",
    ")\n",
    "sub_sampled_imaging_pos = imaging_positive.sample(\n",
    "    axis=0, replace=False, n=n_positive_imaging, random_state=33\n",
    ")\n",
    "sub_sampled_imaging_neg = imaging_negative.sample(\n",
    "    axis=0, replace=False, n=n_negative_imaging, random_state=33\n",
    ")\n",
    "\n",
    "prevalence_shift = pd.concat(\n",
    "    [\n",
    "        sub_sampled_imaging_pos,\n",
    "        sub_sampled_imaging_neg,\n",
    "        sub_sampled_phillips_pos,\n",
    "        sub_sampled_phillips_neg,\n",
    "    ]\n",
    ")\n",
    "(\n",
    "    prevalence_shift.Manufacturer.value_counts(normalize=True),\n",
    "    prevalence_shift.pneumonia.value_counts(normalize=True),\n",
    ")"
   ]
  },
  {
   "cell_type": "code",
   "execution_count": null,
   "metadata": {},
   "outputs": [],
   "source": [
    "prevalence_shift.to_csv(ROOT / \"experiments\" / \"padchest_prev_shift.csv\")"
   ]
  },
  {
   "cell_type": "code",
   "execution_count": null,
   "metadata": {},
   "outputs": [],
   "source": [
    "test_prev = 0.20\n",
    "target_prev_phillips = 0.90\n",
    "\n",
    "len(phillips_test_positive), len(imaging_positive)\n",
    "n_positive_phillips = len(phillips_test_positive)\n",
    "n_positive_imaging = int(\n",
    "    (1 - target_prev_phillips) * n_positive_phillips / target_prev_phillips\n",
    ")\n",
    "n_negative_phillips = int((1 - test_prev) * n_positive_phillips / test_prev)\n",
    "n_negative_imaging = int((1 - test_prev) * n_positive_imaging / test_prev)\n",
    "\n",
    "sub_sampled_phillips_pos = phillips_test_positive.sample(\n",
    "    axis=0, replace=False, n=n_positive_phillips, random_state=33\n",
    ")\n",
    "sub_sampled_phillips_neg = phillips_test_negative.sample(\n",
    "    axis=0, replace=False, n=n_negative_phillips, random_state=33\n",
    ")\n",
    "sub_sampled_imaging_pos = imaging_positive.sample(\n",
    "    axis=0, replace=False, n=n_positive_imaging, random_state=33\n",
    ")\n",
    "sub_sampled_imaging_neg = imaging_negative.sample(\n",
    "    axis=0, replace=False, n=n_negative_imaging, random_state=33\n",
    ")\n",
    "\n",
    "manufacturer_prevalence_shift = pd.concat(\n",
    "    [\n",
    "        sub_sampled_imaging_pos,\n",
    "        sub_sampled_imaging_neg,\n",
    "        sub_sampled_phillips_pos,\n",
    "        sub_sampled_phillips_neg,\n",
    "    ]\n",
    ")\n",
    "(\n",
    "    manufacturer_prevalence_shift.Manufacturer.value_counts(normalize=True),\n",
    "    manufacturer_prevalence_shift.pneumonia.value_counts(normalize=True),\n",
    ")"
   ]
  },
  {
   "cell_type": "code",
   "execution_count": null,
   "metadata": {},
   "outputs": [],
   "source": [
    "manufacturer_prevalence_shift.to_csv(\n",
    "    ROOT / \"experiments\" / \"padchest_manufactuer_prev_shift.csv\"\n",
    ")"
   ]
  }
 ],
 "metadata": {
  "kernelspec": {
   "display_name": "causalnew",
   "language": "python",
   "name": "python3"
  },
  "language_info": {
   "codemirror_mode": {
    "name": "ipython",
    "version": 3
   },
   "file_extension": ".py",
   "mimetype": "text/x-python",
   "name": "python",
   "nbconvert_exporter": "python",
   "pygments_lexer": "ipython3",
   "version": "3.11.5"
  }
 },
 "nbformat": 4,
 "nbformat_minor": 2
}
